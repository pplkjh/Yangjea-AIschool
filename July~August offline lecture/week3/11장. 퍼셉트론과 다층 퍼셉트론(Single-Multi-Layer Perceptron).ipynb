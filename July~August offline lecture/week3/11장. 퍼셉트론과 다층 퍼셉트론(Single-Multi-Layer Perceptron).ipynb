{
 "cells": [
  {
   "cell_type": "markdown",
   "metadata": {},
   "source": [
    "인공지능의 세번째 겨울이 찾아올까? http://aidev.co.kr/general/6510\n",
    "\n",
    "(3Blue1Brown) 신경망이란 무엇인가? | 1장.딥러닝에 관하여 https://www.youtube.com/watch?v=aircAruvnKk\n",
    "\n",
    "The Universal Approximation Theorem for neural networks https://www.youtube.com/watch?v=Ijqkc7OLenI\n",
    "\n",
    "A visual proof that neural nets can compute any function http://neuralnetworksanddeeplearning.com/chap4.html"
   ]
  },
  {
   "cell_type": "code",
   "execution_count": 2,
   "metadata": {},
   "outputs": [],
   "source": [
    "#퍼셉트론 (Perceptron)\n",
    "\n",
    "import numpy as np\n",
    "\n",
    "def perceptron (row, weights):\n",
    "    activation = weights [0] \n",
    "    \n",
    "    for i in range(len(row)-1):\n",
    "        activation += weights[i+1]*row[i]\n",
    "        return 1.0 if activation >= 0.0 else 0.0"
   ]
  },
  {
   "cell_type": "code",
   "execution_count": 3,
   "metadata": {},
   "outputs": [
    {
     "name": "stdout",
     "output_type": "stream",
     "text": [
      "0, 0 ==> 0\n",
      "1, 0 ==> 0\n",
      "0, 1 ==> 0\n",
      "1, 1 ==> 1\n"
     ]
    }
   ],
   "source": [
    "# AND 게이트\n",
    "import numpy as np\n",
    "\n",
    "def AND(x1, x2):\n",
    "    x = np.array([x1,x2])\n",
    "    w = np.array([0.5,0.5])\n",
    "    theta = 0.7\n",
    "    if np.sum(w*x) <= theta:\n",
    "        return 0\n",
    "    else:\n",
    "        return 1\n",
    "\n",
    "inputData = np.array([[0,0],[1,0],[0,1],[1,1]])\n",
    "for x in inputData: \n",
    "    print(x[0],\", \",x[1],\" ==> \",AND(x[0],x[1]), sep = '')\n"
   ]
  },
  {
   "cell_type": "code",
   "execution_count": 4,
   "metadata": {},
   "outputs": [
    {
     "name": "stdout",
     "output_type": "stream",
     "text": [
      "0, 0 ==> 0\n",
      "1, 0 ==> 1\n",
      "0, 1 ==> 1\n",
      "1, 1 ==> 1\n"
     ]
    }
   ],
   "source": [
    "# [이론예제] OR게이트\n",
    "import numpy as np\n",
    "\n",
    "def OR(x1, x2):\n",
    "    x = np.array([x1,x2])\n",
    "    w = np.array([0.5,0.5])\n",
    "    theta = 0.2\n",
    "    if np.sum(w*x) <= theta:\n",
    "        return 0\n",
    "    else:\n",
    "        return 1\n",
    "\n",
    "inputData = np.array([[0,0],[1,0],[0,1],[1,1]])\n",
    "for x in inputData: \n",
    "    print(x[0],\", \",x[1],\" ==> \",OR(x[0],x[1]), sep = '')\n"
   ]
  },
  {
   "cell_type": "code",
   "execution_count": 5,
   "metadata": {},
   "outputs": [
    {
     "name": "stdout",
     "output_type": "stream",
     "text": [
      "0, 0 ==> 1\n",
      "1, 0 ==> 1\n",
      "0, 1 ==> 1\n",
      "1, 1 ==> 0\n"
     ]
    }
   ],
   "source": [
    "#  NAND게이트\n",
    "import numpy as np\n",
    "\n",
    "def NAND(x1, x2):\n",
    "    x = np.array([x1,x2])\n",
    "    w = np.array([-0.5,-0.5])\n",
    "    theta = -0.7\n",
    "    if np.sum(w*x) <= theta:\n",
    "        return 0\n",
    "    else:\n",
    "        return 1\n",
    "\n",
    "inputData = np.array([[0,0],[1,0],[0,1],[1,1]])\n",
    "for x in inputData: \n",
    "    print(x[0],\", \",x[1],\" ==> \",NAND(x[0],x[1]), sep = '')\n"
   ]
  },
  {
   "cell_type": "code",
   "execution_count": 6,
   "metadata": {},
   "outputs": [
    {
     "name": "stdout",
     "output_type": "stream",
     "text": [
      "0, 0 ==> 0\n",
      "1, 0 ==> 1\n",
      "0, 1 ==> 1\n",
      "1, 1 ==> 0\n"
     ]
    }
   ],
   "source": [
    "# XOR게이트\n",
    "import numpy as np\n",
    "\n",
    "\n",
    "def OR(x1, x2):\n",
    "    x = np.array([x1,x2])\n",
    "    w = np.array([0.5,0.5])\n",
    "    theta = 0.2\n",
    "    if np.sum(w*x) <= theta:\n",
    "        return 0\n",
    "    else:\n",
    "        return 1\n",
    "\n",
    "def AND(x1, x2):\n",
    "    x = np.array([x1,x2])\n",
    "    w = np.array([0.5,0.5])\n",
    "    theta = 0.7\n",
    "    if np.sum(w*x) <= theta:\n",
    "        return 0\n",
    "    else:\n",
    "        return 1\n",
    "\n",
    "\n",
    "def NAND(x1, x2):\n",
    "    x = np.array([x1,x2])\n",
    "    w = np.array([-0.5,-0.5])\n",
    "    theta = -0.7\n",
    "    if np.sum(w*x) <= theta:\n",
    "        return 0\n",
    "    else:\n",
    "        return 1\n",
    "\n",
    "\n",
    "\n",
    "def XOR(x1, x2):\n",
    "    return AND(NAND(x1, x2), OR(x1, x2))\n",
    "\n",
    "inputData = np.array([[0,0],[1,0],[0,1],[1,1]])\n",
    "\n",
    "for x in inputData: \n",
    "    print(x[0],\", \",x[1],\" ==> \",XOR(x[0],x[1]), sep = '')\n"
   ]
  },
  {
   "cell_type": "markdown",
   "metadata": {},
   "source": [
    "# 퍼셉트론 (Perceptron)\n",
    "퍼셉트론은 오늘날 신경망(딥러닝)의 기원이 되는 알고리즘으로, 실제 사람의 뇌를 구성하는 뉴런(Neuron)과 유사하게 동작합니다.\n",
    "\n",
    "https://kasausyrzlhe1066469.cdn.ntruss.com/global/file/p/5d10bd97bbf7815671e38811/Perceptron.png\n",
    "\n",
    "다만, 퍼셉트론에 흐르는 자극은 실제 전류와는 다르게 신호가 '흐른다/ 안 흐른다 (1/0)'의 두가지 값을 가집니다.\n",
    "\n",
    "https://kasausyrzlhe1066469.cdn.ntruss.com/global/file/p/5d10bdb6bbf7815671e38814/neuron_model.jpeg\n",
    "\n",
    "(자료출처: cs231n, Stanford University)\n",
    "\n",
    "이러한 퍼셉트론에 부여되는 적당한 가중치(w: Weight)와 편향(b: Bias)을 찾고, Numpy Array를 이용해서 아래 간단한 AND Gate를 구현하여 봅시다.\n",
    "\n",
    "https://kasausyrzlhe1066469.cdn.ntruss.com/global/file/p/5d12d9f4ab79b17d0ede63b5/AND%20gate%20and%20graph.jpg\n",
    "\n",
    "    Input (x1)\tInput (x2)\tOutput (Y)\n",
    "        0\t       0\t       0\n",
    "        0\t       1\t       0\n",
    "        1\t       0\t       0\n",
    "        1\t       1\t       1\n",
    "    \n",
    "### 실습\n",
    "가중치가 각각 0.5, 0.5라고 주어졌을 때, 가중합과 편향을 더했을 때의 값(output)이 AND gate를 만족하는 bias값을 설정합니다.\n",
    "(항상 가중치 조합이 0.5, 0.5로 주어지는 것은 아니지만 이번 실습에서는 이렇게 진행하겠습니다.)\n",
    "\n",
    "hint. 여러가지 숫자를 넣어 가면서 실행해보세요. 실제 딥러닝에서도 컴퓨터도 그런답니다.\n",
    "\n",
    "입력에 대해 가중합 w1*x1+w2*x2+b를 np.sum을 이용하여 구현합니다.\n",
    "\n",
    "다음과 같은 출력이 나오도록 Step function으로 return 합니다.\n",
    "\n",
    "https://kasausyrzlhe1066469.cdn.ntruss.com/global/file/p/5d109c7aca3955f75ff729d8/step_function.png"
   ]
  },
  {
   "cell_type": "code",
   "execution_count": 6,
   "metadata": {},
   "outputs": [
    {
     "name": "stdout",
     "output_type": "stream",
     "text": [
      "AND Gate 출력\n",
      "Input:  0 0 , Output:  0\n",
      "Input:  0 1 , Output:  0\n",
      "Input:  1 0 , Output:  0\n",
      "Input:  1 1 , Output:  1\n"
     ]
    }
   ],
   "source": [
    "\n",
    "import numpy as np\n",
    "\n",
    "# AND gate 선언\n",
    "def AND_gate(x1, x2):\n",
    "    x = np.array([x1, x2])\n",
    "    \n",
    "    # x1과 x2에 각각 곱해줄 Weight를 0.5, 0.5로 설정합니다.\n",
    "    w = np.array([0.5, 0.5])\n",
    "    \n",
    "    # TODO : AND gate를 만족하는 bias를 설정해보세요.\n",
    "    b = - 0.7\n",
    "    \n",
    "    # TODO : 퍼셉트론을 만들어보세요.\n",
    "    y = np.sum(w*x) + b\n",
    "    \n",
    "    # TODO : Step Function을 구현해보세요.\n",
    "    if y > 0:\n",
    "        return 1\n",
    "    else:\n",
    "        return 0\n",
    "\n",
    "\n",
    "# AND Gate에 넣어줄 Input입니다.\n",
    "array = np.array([[0,0], [0,1], [1,0], [1,1]])\n",
    "\n",
    "# AND Gate를 만족하는지 출력하여 확인합니다.\n",
    "print('AND Gate 출력')\n",
    "for x1, x2 in array:\n",
    "    print('Input: ',x1, x2, ', Output: ',AND_gate(x1, x2))\n",
    "\n"
   ]
  },
  {
   "cell_type": "markdown",
   "metadata": {},
   "source": [
    "# 단층 퍼셉트론(Single-Layer Perceptron)\n",
    "앞선 실습에서는 간단한 AND Gate를 구현해보았습니다. 이처럼 한 개의 퍼셉트론으로 구현한 이 구조를 단층 퍼셉트론이라고 부릅니다.\n",
    "\n",
    "이번에는 동일한 단층 퍼셉트론에서 매개변수(가중치 w 및 편항 b) 값을 조정하여 OR Gate와 NAND Gate를 구현하여 봅시다.\n",
    "\n",
    "https://kasausyrzlhe1066469.cdn.ntruss.com/global/file/p/5d12db8cab79b17d0ede63c5/OR%20and%20NAND%20gate%20graph.jpg\n",
    "\n",
    "### 실습\n",
    "    Input (x1)\tInput (x2)\tOR Output (y)\tNAND Output(y)\n",
    "           0\t       0\t       0\t        1\n",
    "           0\t       1\t       1\t        1\n",
    "           1\t       0\t       1\t        1\n",
    "           1\t       1\t       1\t        0\n",
    "위 진리표에 맞게 게이트를 구현해보세요.\n",
    "\n",
    "(실습 11-1을 참조하며 풀어보세요.)\n",
    "\n",
    "OR_gate()의 Weight 및 Bias 값을 지정합니다.\n",
    "\n",
    "NAND_gate() Weight 및 Bias 값을 지정합니다.\n",
    "\n",
    "각 Gate의 출력이 올바른지 확인해보세요"
   ]
  },
  {
   "cell_type": "code",
   "execution_count": 7,
   "metadata": {},
   "outputs": [
    {
     "name": "stdout",
     "output_type": "stream",
     "text": [
      "OR Gate 출력\n",
      "Input:  0 0 , Output:  0\n",
      "Input:  0 1 , Output:  1\n",
      "Input:  1 0 , Output:  1\n",
      "Input:  1 1 , Output:  1\n",
      "NAND Gate 출력\n",
      "Input:  0 0 , Output:  1\n",
      "Input:  0 1 , Output:  1\n",
      "Input:  1 0 , Output:  1\n",
      "Input:  1 1 , Output:  0\n"
     ]
    }
   ],
   "source": [
    "import numpy as np\n",
    "\n",
    "# Step function\n",
    "def step_fn(y):\n",
    "    if y<=0:\n",
    "        return 0\n",
    "    else:\n",
    "        return 1\n",
    "\n",
    "# TODO : OR gate 함수를 구현해보세요.\n",
    "def OR_gate(x1, x2):\n",
    "    x = np.array([x1, x2])\n",
    "    w = np.array([0.5, 0.5])\n",
    "    b = -0.3\n",
    "    y = np.sum(w*x) + b\n",
    "    \n",
    "    return step_fn(y)\n",
    "        \n",
    "        \n",
    "# TODO : NAND gate 함수를 구현해보세요.\n",
    "def NAND_gate(x1, x2):\n",
    "    x = np.array([x1, x2])\n",
    "    w = np.array([-0.5,-0.5])\n",
    "    b = 1\n",
    "    y = np.sum(w*x) + b\n",
    "    \n",
    "    return step_fn(y)\n",
    "        \n",
    "        \n",
    "# Gate에 넣어줄 Input입니다.\n",
    "array = np.array([[0,0], [0,1], [1,0], [1,1]])\n",
    "\n",
    "# OR, NAND Gate를 만족하는지 출력하여 확인해보세요.\n",
    "print('OR Gate 출력')\n",
    "for x1, x2 in array:\n",
    "    print('Input: ',x1, x2, ', Output: ',OR_gate(x1, x2))\n",
    "\n",
    "print('NAND Gate 출력')\n",
    "for x1, x2 in array:\n",
    "    print('Input: ',x1, x2, ', Output: ',NAND_gate(x1, x2))\n"
   ]
  },
  {
   "cell_type": "markdown",
   "metadata": {},
   "source": [
    "# 다층 퍼셉트론 (MLP: Multi-Layer Perceptron)\n",
    "실습 6-1과 6-2에서는 단 하나의 퍼셉트론으로 매개변수(가중치, 편향)을 조정하여 AND, OR, NAND Gate를 구현하였습니다.\n",
    "\n",
    "이들은 하나의 직선으로 영역을 나눔으로써 출력을 조정하여 나온 결과라고 할 수 있습니다.\n",
    "\n",
    "그러면 XOR Gate를 구현하기 위해서는 어떻게 가중치와 편향을 조정하여야 할까요?\n",
    "\n",
    "https://kasausyrzlhe1066469.cdn.ntruss.com/global/file/p/5d12e0e9ab79b17d0ede63de/XOR%20vis.jpg\n",
    "\n",
    "맞습니다. 한 개의 퍼셉트론으로는 하나의 직선으로 영역을 나누기 때문에 XOR Gate 구현이 불가능합니다 :(\n",
    "\n",
    "https://kasausyrzlhe1066469.cdn.ntruss.com/global/file/p/5d12e0fcebb19c8b09e3bd47/xor%20mlp.png\n",
    "\n",
    "하지만, 우리에게는 퍼셉트론을 여러 층으로 쌓아 구현하는 방법이 있습니다. 이번 실습에서는 앞서 구현해본 퍼셉트론 여러 개를 쌓아 XOR Gate를 구현해보겠습니다.\n",
    "\n",
    "### 실습\n",
    "미리 구현된 AND OR NAND Gate를 이용하여 XOR Gate를 구현하여 봅시다.\n",
    "\n",
    "https://kasausyrzlhe1066469.cdn.ntruss.com/global/file/p/5d11ee2e6ef262be4168b233/254px_3gate_XOR.jpg\n",
    "\n",
    "    Input (x1)\tInput (x2)\ts1\t  s2\tOutput(y)\n",
    "          0\t      0\t      0\t      1\t     0\n",
    "          0\t      1\t      1\t      1\t     1\n",
    "          1\t      0\t      1\t      1\t     1\n",
    "          1\t      1\t      1\t      0\t     0\n",
    "s1에 OR Gate 의 연산결과를 넣어보세요.\n",
    "\n",
    "s2에 NAND Gate의 연산결과를 넣어보세요.\n",
    "\n",
    "s1과 s2를 입력으로 하는 AND Gate 연산을 return해보세요.\n",
    "\n",
    "결과를 보고 XOR Gate가 잘 구현되었는지 확인해보세요."
   ]
  },
  {
   "cell_type": "code",
   "execution_count": 8,
   "metadata": {},
   "outputs": [
    {
     "name": "stdout",
     "output_type": "stream",
     "text": [
      "XOR Gate 출력\n",
      "Input:  0 0 , Output:  0\n",
      "Input:  0 1 , Output:  1\n",
      "Input:  1 0 , Output:  1\n",
      "Input:  1 1 , Output:  0\n"
     ]
    }
   ],
   "source": [
    "import numpy as np\n",
    "\n",
    "# TODO : 다른 Gate 함수를 이용해 XOR_Gate 함수를 완성해보세요.\n",
    "def XOR_gate(x1, x2):\n",
    "    s1 = OR_gate(x1,x2)\n",
    "    s2 = NAND_gate(x1, x2)\n",
    "    return AND_gate(s1,s2)   #s1+s2-1 \n",
    "\n",
    "# Step Function 함수\n",
    "def step_fn(y):\n",
    "    if y<=0:\n",
    "        return 0\n",
    "    else:\n",
    "        return 1\n",
    "\n",
    "# AND Gate 함수입니다.\n",
    "def AND_gate(x1, x2):\n",
    "    x = np.array([x1, x2])\n",
    "    w = np.array([0.5, 0.5])\n",
    "    b = -0.7\n",
    "    y = np.sum(w*x) + b\n",
    "    \n",
    "    return step_fn(y)\n",
    "    \n",
    "# OR Gate 함수입니다.\n",
    "def OR_gate(x1, x2):\n",
    "    x = np.array([x1, x2])\n",
    "    w = np.array([0.5, 0.5])\n",
    "    b = -0.2\n",
    "    y = np.sum(w*x) + b\n",
    "    \n",
    "    return step_fn(y)\n",
    "        \n",
    "# NAND Gate 함수입니다.\n",
    "def NAND_gate(x1, x2):\n",
    "    x = np.array([x1, x2])\n",
    "    w = np.array([-0.5, -0.5])\n",
    "    b = 0.7\n",
    "    y = np.sum(w*x) + b\n",
    "    \n",
    "    return step_fn(y)\n",
    "\n",
    "# 입력으로 사용될 Array를 만들어줍니다.\n",
    "array = np.array([[0,0], [0,1], [1,0], [1,1]])\n",
    "\n",
    "print('XOR Gate 출력')\n",
    "for x1, x2 in array:\n",
    "    print('Input: ',x1, x2, ', Output: ', XOR_gate(x1, x2))\n"
   ]
  },
  {
   "cell_type": "markdown",
   "metadata": {},
   "source": [
    "# 활성화 함수 (Activation Function)\n",
    "지금까지 퍼셉트론을 구현하면서 입력 값들의 가중합이 0 이하일 때는 0을, 그 이상일 때는 1을 출력해주는 **계단 함수(Step Function)**를 써서 구현하였습니다.\n",
    "\n",
    "이렇게 값에 따라 출력을 정해주는 것을 활성화 한다 라고 하는데요, 계단 함수도 활성화 함수의 일종입니다.\n",
    "\n",
    "즉, 활성화 함수에도 여러 종류가 있고, 각각 장단점이 있다는 것입니다.\n",
    "\n",
    "이번 실습에서는 딥러닝에 자주 사용되는 Sigmoid, tanh, ReLU (Rectified linear Unit) 활성화 함수 구현을 해보는 실습을 해보겠습니다.\n",
    "\n",
    "### 실습\n",
    "입력 x를 받아와 다음을 출력하는 함수를 작성해보세요.\n",
    "\n",
    "Sigmoid 를 구현해보세요. (6장 참고)\n",
    "\\sigma(x) = \\frac{1}{1 + e^{-(x)}} \n",
    "\n",
    "tanh를 구현해보세요.\n",
    "\\tanh(x) = \\frac{e^{x}-e^{-x}}{e^{x}+e^{-x}} \n",
    "\n",
    "ReLU를 구현해보세요.\n",
    "https://kasausyrzlhe1066469.cdn.ntruss.com/global/file/p/5d1305ac31ade43bb83d2e2c/relu.svg\n",
    "\n",
    "TIP! Numpy의 메소드를 이용하여 구현할 수 있습니다.\n",
    "\n",
    "* np.exp()\n",
    "* [np.maximum(a, b)] \n",
    "\n",
    "[(https://docs.scipy.org/doc/numpy/reference/generated/numpy.maximum.html)]"
   ]
  },
  {
   "cell_type": "code",
   "execution_count": 8,
   "metadata": {},
   "outputs": [
    {
     "data": {
      "image/png": "[encoded data removed]",
      "text/plain": [
       "<Figure size 432x288 with 1 Axes>"
      ]
     },
     "metadata": {
      "needs_background": "light"
     },
     "output_type": "display_data"
    }
   ],
   "source": [
    "import numpy as np\n",
    "import matplotlib.pyplot as plt\n",
    "\n",
    "# TODO : Sigmoid 함수를 구현해보세요.\n",
    "def sigmoid(x):\n",
    "    '''x= np.exp(-x)\n",
    "    return 1/1+x'''\n",
    "    return  1/(1+np.exp(-x))\n",
    "\n",
    "# TODO : Tanh 함수를 구현해보세요.\n",
    "def tanh(x):\n",
    "    return (np.exp(x)-np.exp(-x))/(np.exp(x)+np.exp(-x))\n",
    "\n",
    "# TODO : ReLU 함수를 구현해보세요.\n",
    "def ReLU(x):\n",
    "    '''    xary= []\n",
    "    for i in x:\n",
    "        if i <= 0:\n",
    "            xary.append(0)\n",
    "        else:\n",
    "            xary.append(i)\n",
    "    return xary'''\n",
    "    return [max(0,i) for i in x]\n",
    "# Activation Function 출력\n",
    "x = np.arange(-5.0, 5.0, 0.1)\n",
    "plt.title('Activation Function')\n",
    "plt.plot(x,sigmoid(x))\n",
    "plt.plot(x,tanh(x))\n",
    "plt.plot(x,ReLU(x))\n",
    "plt.ylim(-1.5, 1.5)\n",
    "plt.legend(['y = sigmoid(x)', 'y = tanh(x)', 'y = ReLU(x)'])\n",
    "plt.grid()\n",
    "# plt.savefig('plot.png')\n"
   ]
  },
  {
   "cell_type": "markdown",
   "metadata": {},
   "source": [
    "# DIY 퍼셉트론 만들기\n",
    "https://kasausyrzlhe1066469.cdn.ntruss.com/global/file/p/5d13367dc435254e9a200244/perceptron_node.png\n",
    "\n",
    "위 그림과 같은 퍼셉트론을 함수로 구현해보겠습니다.\n",
    "\n",
    "(단, m = 4이며, Numpy 라이브러리를 이용하여 구현)\n",
    "\n",
    "### 미션\n",
    "4개의 가중치 w를 0에서 1사이의 임의의 값으로 설정해보세요.\n",
    "\n",
    "임의의 Bias b를 설정해보세요.\n",
    "\n",
    "퍼셉트론의 Output y를 구성해보세요.\n",
    "\n",
    "Activation Function으로 ReLU를 구현해주세요."
   ]
  },
  {
   "cell_type": "code",
   "execution_count": 13,
   "metadata": {},
   "outputs": [
    {
     "name": "stdout",
     "output_type": "stream",
     "text": [
      "[0.  0.1 0.1 1.9]\n"
     ]
    }
   ],
   "source": [
    "import numpy as np\n",
    "\n",
    "\n",
    "# TODO : ReLU Activation Function을 구현해주세요.\n",
    "def ReLU(x):\n",
    "    '''xary= []\n",
    "    for i in x:\n",
    "        if i <= 0:\n",
    "            xary.append(0)\n",
    "        else:\n",
    "            xary.append(i)\n",
    "    return xary'''\n",
    "    return np.maximum(0,x)\n",
    "    \n",
    "# TODO : 4개의 가중치를 갖는 퍼셉트론을 구현하세요.\n",
    "def perceptron(x):\n",
    "    w = np.array([0.5,0.3,0.2,0.6])\n",
    "    b = -0.5\n",
    "    y = [ float(x[i]*w[i]+b) for i in range(len(x))]\n",
    "    # TODO : w, b, ReLU를 거친 결과를 Return해주세요.\n",
    "    return w, b, ReLU(y)\n",
    "\n",
    "data_input = np.array([1,2,3,4])\n",
    "w, b, output = perceptron(data_input)\n",
    "print(output)\n"
   ]
  },
  {
   "cell_type": "markdown",
   "metadata": {},
   "source": [
    "# Softmax 활성화 함수 만들기\n",
    "[실습 11-4] 에서 몇가지 활성화 함수를 직접 구현해보았습니다.\n",
    "\n",
    "이번에는 0과 1 처럼 두 개의 클래스(class) 를 구분해주는 이진 분류 알고리즘이 아닌 여러개의 클래스를 구분해주는 (ex, 이미지에 써있는 숫자를 1부터 10까지 구분)\n",
    "\n",
    "알고리즘에서 쓰이는 활성화 함수 softmax 함수를 구현해봅시다.\n",
    "\n",
    "즉, softmax 함수는 앞서 구현해보았던 sigmoid함수의 일반화된 형태라고 볼 수 있고, 각 클래스에 대해서 정규화된(normalized) 확률값을 출력해냅니다.\n",
    "\n",
    "https://kasausyrzlhe1066469.cdn.ntruss.com/global/file/p/5d1430d161fe5c33eb2528da/1_670CdxchunD-yAuUWdI7Bw.png\n",
    "\n",
    "\n",
    "미션\n",
    "{softmax(z_i)} = \\frac{e^{z_i}}{\\sum_{j=1}^{n} e^{z_i}} (i = 1, ..., n) \n",
    "\n",
    "10개의 클래스에 대한 점수 값이 담긴 x가 주어집니다.\n",
    "\n",
    "softmax() 함수를 구현해보세요.\n",
    "\n",
    "softmax()의 결과에서 클래스의 확률을 의미하는 max_value와 max_idx를 추출해보세요.\n",
    "\n",
    "hint : https://docs.scipy.org/doc/numpy/reference/generated/numpy.argmax.html"
   ]
  },
  {
   "cell_type": "code",
   "execution_count": 14,
   "metadata": {},
   "outputs": [
    {
     "name": "stdout",
     "output_type": "stream",
     "text": [
      "[0.006106767850787259, 0.02650933327106107, 2.528845417528338e-07, 0.0065526752402883985, 1.5076945588201964e-07, 0.22389166576598996, 0.6544925482606249, 0.08208328642342573, 1.4730446302196967e-05, 0.0003485890875228083]\n",
      "Softmax 분류 결과 :  [0.006 0.027 0.    0.007 0.    0.224 0.654 0.082 0.    0.   ]\n",
      "클래스 예측 결과 가장 높은 값은 0.654로, 6번 클래스입니다.\n"
     ]
    }
   ],
   "source": [
    "import numpy as np\n",
    "\n",
    "# TODO : softmax 함수를 구현해보세요.\n",
    "def softmax(z):\n",
    "    sumval = np.sum(np.exp(z))\n",
    "    newz = []\n",
    "    for i in z:\n",
    "        newz.append(np.exp(i)/sumval)\n",
    "    print (newz )\n",
    "    '''exp = np.exp(z)\n",
    "    return exp/ np.sum(np.exp(z))'''\n",
    "    return (newz)\n",
    "\n",
    "# x는 10개의 Class에 대한 점수를 의미합니다.\n",
    "x = np.array([11.31035972, 12.77845895, 1.21838455, 11.38083548, 0.70120341,\n",
    "            14.91212438, 15.98482228,  13.9086965,  5.28312333,  8.44710063])\n",
    "\n",
    "# TODO : Softmax Activation Function을 거친 결과를 저장해보세요.\n",
    "result = softmax(x)\n",
    "\n",
    "# TODO : Softmax를 거친 결과 중 가장 높은 값을 추출해보세요.\n",
    "max_idx = result.index(max(result))    #np.argmax(result)\n",
    "max_value = max(result)    #result[max_inx]\n",
    "\n",
    "print('Softmax 분류 결과 : ', np.round(result,3))\n",
    "print('클래스 예측 결과 가장 높은 값은 {}로, {}번 클래스입니다.'.format(np.round(max_value,3), max_idx))"
   ]
  },
  {
   "cell_type": "code",
   "execution_count": null,
   "metadata": {},
   "outputs": [],
   "source": []
  }
 ],
 "metadata": {
  "kernelspec": {
   "display_name": "Python 3",
   "language": "python",
   "name": "python3"
  },
  "language_info": {
   "codemirror_mode": {
    "name": "ipython",
    "version": 3
   },
   "file_extension": ".py",
   "mimetype": "text/x-python",
   "name": "python",
   "nbconvert_exporter": "python",
   "pygments_lexer": "ipython3",
   "version": "3.6.8"
  }
 },
 "nbformat": 4,
 "nbformat_minor": 2
}
