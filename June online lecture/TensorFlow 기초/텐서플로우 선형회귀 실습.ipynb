{
 "cells": [
  {
   "cell_type": "code",
   "execution_count": null,
   "metadata": {},
   "outputs": [],
   "source": [
    "import tensorflow as tf\n",
    "\n",
    "###########이 값은 바꾸지 마세요###########\n",
    "output_weight = 0\n",
    "output_bias = 0\n",
    "###########################################\n",
    "\n",
    "train_step = 500\n",
    "learning_rate = 0.1\n",
    "\n",
    "x_data = [1, 2, 3]\n",
    "y_data = [1, 2, 3]\n",
    "# W와 b에는 랜덤 값을 주고 아무 선이나 그리게 합니다.\n",
    "W = tf.Variable(tf.random_normal([1]), dtype=tf.float32)\n",
    "b = tf.Variable(tf.random_normal([1]), dtype=tf.float32)\n",
    "\n",
    "# 데이터가 들어갈 placeholder를 만들어 줍니다\n",
    "X = tf.placeholder(tf.float32)\n",
    "Y = tf.placeholder(tf.float32)\n",
    "\n",
    "# 이 아무 선(가상의 선)을 hypothesis라고 변수를 주고\n",
    "# 가상 선의 식을 적어줍니다.\n",
    "# y = W^T * X + b\n",
    "hypothesis = tf.add(X*W, b)\n",
    "\n",
    "# cost function의 식입니다\n",
    "# tf.reduce_mean은 평균을 구하는 함수\n",
    "# tf.square는 제곱을 하는 함수\n",
    "cost = tf.reduce_mean(tf.square(hypothesis - Y))\n",
    "\n",
    "# 그레디언트 디센트라는 함수 최적화 알고리즘을 사용해 cost function을 최소화한다.\n",
    "optimizer = tf.train.GradientDescentOptimizer(learning_rate = learning_rate)\n",
    "train = optimizer.minimize(cost)\n",
    "\n",
    "with tf.Session() as sess:\n",
    "    init = tf.global_variables_initializer()\n",
    "    sess.run(init)\n",
    "    print('랜덤 초기화 값')\n",
    "    print('weight : ', sess.run(W)[0])\n",
    "    print('bias : ', sess.run(b)[0])\n",
    "    print()\n",
    "    for step in range(train_step):\n",
    "        # 매번 train 변수를 통해 optimizer로 cost function을 최소화한다.\n",
    "        sess.run(train, feed_dict = {X: x_data, Y: y_data})\n",
    "        if step % 100 == 9:\n",
    "            print(step)\n",
    "            print('cost : ',sess.run(cost, feed_dict={X: x_data, Y: y_data}))\n",
    "            print('weight : ', sess.run(W)[0])\n",
    "            print('bias : ', sess.run(b)[0])\n",
    "            print()\n",
    "    \n",
    "        output_weight = sess.run(W)[0]\n",
    "        output_bias = sess.run(b)[0]"
   ]
  }
 ],
 "metadata": {
  "kernelspec": {
   "display_name": "Python 3",
   "language": "python",
   "name": "python3"
  },
  "language_info": {
   "codemirror_mode": {
    "name": "ipython",
    "version": 3
   },
   "file_extension": ".py",
   "mimetype": "text/x-python",
   "name": "python",
   "nbconvert_exporter": "python",
   "pygments_lexer": "ipython3",
   "version": "3.6.5"
  }
 },
 "nbformat": 4,
 "nbformat_minor": 2
}
